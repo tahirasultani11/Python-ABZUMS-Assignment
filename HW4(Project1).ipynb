{
 "cells": [
  {
   "cell_type": "markdown",
   "id": "94db5993",
   "metadata": {},
   "source": [
    "# Assignment 4: Project 1\n",
    "\n",
    "**Course:** AbzumsAI Programming 1404\n",
    "\n",
    "**Instructor:** Mr. Ali Mohammadzadeh Shabestari\n",
    "\n",
    "**Date Assigned:** July 1, 2025\n",
    "\n",
    "**Deadline:** TBA"
   ]
  },
  {
   "cell_type": "markdown",
   "id": "33f31543",
   "metadata": {},
   "source": [
    "In this project, you will build a classic Tic Tac Toe game that runs in the terminal. Two players take turns choosing positions on a 3×3 grid, trying to get three of their marks (X or O) in a row, column, or diagonal. The game should announce a win, tie, or continue until one of those outcomes is reached.\n",
    "\n",
    "This project helps you apply and connect key Python concepts you’ve learned so far:\n",
    "- Working with lists to represent the game board\n",
    "- Using if/else conditions to check for valid moves and winning logic\n",
    "- Repeating the game flow with while loops\n",
    "- Organizing your program into reusable functions\n",
    "- Handling user input and basic error checking\n",
    "\n",
    "By the end, you’ll have a complete working game and a strong understanding of how to structure and build small Python programs."
   ]
  },
  {
   "cell_type": "markdown",
   "id": "ed63b194",
   "metadata": {},
   "source": [
    "## 🧩 Step 1: Initialize the Game Board\n",
    "- Create a list with 9 elements (strings like \\\"-\\\") to represent an empty board.\n",
    "- Use indices 0–8 to refer to board positions:"
   ]
  },
  {
   "cell_type": "raw",
   "id": "0a7b099d",
   "metadata": {},
   "source": [
    "0 | 1 | 2       1 | 2 | 3  \n",
    "3 | 4 | 5   =>  4 | 5 | 6  \n",
    "6 | 7 | 8       7 | 8 | 9  "
   ]
  },
  {
   "cell_type": "code",
   "execution_count": 2,
   "id": "95fef197",
   "metadata": {},
   "outputs": [],
   "source": [
    "def intialize_board():\n",
    "    board = [\"-\"] * 9\n",
    "    return board"
   ]
  },
  {
   "cell_type": "markdown",
   "id": "8ba574b2",
   "metadata": {},
   "source": [
    "## 🧩 Step 2: Display the Game Board\n",
    "Write a function to:\n",
    "- Print the board in a user-friendly format.\n",
    "- You can yuse the format in Step 1."
   ]
  },
  {
   "cell_type": "code",
   "execution_count": 3,
   "id": "b6ec61e5",
   "metadata": {},
   "outputs": [],
   "source": [
    "def display_board(board):\n",
    "    print(f\"{board[0]} | {board[1]} | {board[2]} 1 | 2 | 3\")\n",
    "    print(f\"{board[3]} | {board[4]} | {board[5]} 4 | 5 | 6\")\n",
    "    print(f\"{board[6]} | {board[7]} | {board[8]} 7 | 8 | 9\")"
   ]
  },
  {
   "cell_type": "markdown",
   "id": "d6da3b87",
   "metadata": {},
   "source": [
    "## 🧩 Step 3: Define the Players\n",
    "\n",
    "Write a function to:\n",
    "- Ask Player 1 to choose a symbol: \"X\" or \"O\". (Ask with `input()`)\n",
    "- Assign the remaining symbol to Player 2.\n",
    "- Validate that the input is correct (only allow \"X\" or \"O\").\n",
    "\n",
    "💡 HINT: Use variables `player1`, `player2` and `current_player`."
   ]
  },
  {
   "cell_type": "code",
   "execution_count": 4,
   "id": "6bd8f92b",
   "metadata": {},
   "outputs": [],
   "source": [
    "def define_player():\n",
    "    while True:\n",
    "        player1 = input(\"player 1, choose your symbol (x or o): \")\n",
    "        if player1 == \"x\":\n",
    "            player2 = \"o\"\n",
    "            break\n",
    "        elif player1 == \"o\":\n",
    "            player2 = \"x\"\n",
    "            break\n",
    "        else:\n",
    "            print(\"invalid input, please choose x or o.\")\n",
    "    current_player = player1\n",
    "    return player1, player2, current_player"
   ]
  },
  {
   "cell_type": "markdown",
   "id": "d62adca2",
   "metadata": {},
   "source": [
    "## 🧩 Step 4: Create a Player Move Function\n",
    "\n",
    "Write a function to:\n",
    "- Ask the current player to choose a number from 1 to 9.\n",
    "- Convert it to the correct board index (subtract 1).\n",
    "- Check that the position is not already taken (`-`).\n",
    "- If valid, update the board with the player’s symbol.\n",
    "- Otherwise, ask again until a valid move is made.\n",
    "- NOTE: Inputs must be 1, 2, ..., 9 but real indices are 0, 1, ..., 8."
   ]
  },
  {
   "cell_type": "code",
   "execution_count": 5,
   "id": "b31197db",
   "metadata": {},
   "outputs": [],
   "source": [
    "def player_move(board,current_player):\n",
    "    while True:\n",
    "        try:\n",
    "            move = int(input(f\"{current_player}, choose a position (1-9):\"))\n",
    "            if move < 1 or move > 9:\n",
    "                print(\"invalid input, please choose a positin between 1 and 9.\")\n",
    "                continue\n",
    "            index = move -1 \n",
    "            if board[index]!= \"-\":\n",
    "                print(\"position already taken, please choose another position.\")\n",
    "                continue\n",
    "\n",
    "            board[index] = current_player\n",
    "            break\n",
    "        except ValueError:\n",
    "            print(\"invalid input, please enter a number between 1 and 9.\")\n",
    "            return board, current_player\n"
   ]
  },
  {
   "cell_type": "markdown",
   "id": "bffb8605",
   "metadata": {},
   "source": [
    "## 🧩 Step 5: Check for a Winner\n",
    "\n",
    "Write a function to check if the game has been won (after every move):\n",
    "- Rows: positions [0,1,2], [3,4,5], [6,7,8]\n",
    "- Columns: positions [0,3,6], [1,4,7], [2,5,8]\n",
    "- Diagonals: [0,4,8] and [2,4,6]\n",
    "\n",
    "Also consider Ties, when no `-` is left in board.\n",
    "\n",
    "💡 HINT: Check all mentioned states with `if/else`."
   ]
  },
  {
   "cell_type": "code",
   "execution_count": 6,
   "id": "080fed5f",
   "metadata": {},
   "outputs": [],
   "source": [
    "def check_winner(board):\n",
    "    for i in range(0, 9,3):\n",
    "        if board[i] == board[i+1] == board[i+2] and board[i] != \"-\":\n",
    "            return board[i]\n",
    "    for i in range(3):\n",
    "        if board[i]== board[i+3] == board[i+6] and board[i] != \"-\":\n",
    "            return board[i]\n",
    "    if board[o] == board[4] == board[8] and board[0]!= \"-\":\n",
    "        return board[0]\n",
    "    if board[2] == board[4]== board[6] and board[2] != \"-\":\n",
    "        return board[2]\n",
    "    if \"-\" not in board:\n",
    "        return \"tie\"\n",
    "    return None\n"
   ]
  },
  {
   "cell_type": "markdown",
   "id": "06fabdc9",
   "metadata": {},
   "source": [
    "## 🧩 Step 7: Flip the Current Player\n",
    "Write a function to:\n",
    "- After each valid move, switch `current_player` to the other player (\\\"X\\\" ↔ \\\"O\\\").\n",
    "- Use a simple if/else or ternary expression."
   ]
  },
  {
   "cell_type": "code",
   "execution_count": 7,
   "id": "c931ddf0",
   "metadata": {},
   "outputs": [],
   "source": [
    "def flip_player(current_player):\n",
    "    if current_player == \"x\":\n",
    "        return \"o\"\n",
    "    else:\n",
    "        return \"x\""
   ]
  },
  {
   "cell_type": "markdown",
   "id": "bcf28a04",
   "metadata": {},
   "source": [
    "## 🧩 Step 8: Loop Until the Game Ends\n",
    "Use a `while` loop to keep the game running until:\n",
    "- A player wins\n",
    "- It’s a tie"
   ]
  },
  {
   "cell_type": "code",
   "execution_count": 8,
   "id": "7c312f3a",
   "metadata": {},
   "outputs": [],
   "source": [
    "def play_game():\n",
    "    board = [\"-\"]*9\n",
    "    player1, player2,current_player = define_player()\n",
    "    winner = None\n",
    "    while true:\n",
    "        display_board(board)\n",
    "        player_move(board, current_player)\n",
    "        result =  check_winner(board)\n",
    "        if result == \"x\" or result == \"o\":\n",
    "            display_board(board)\n",
    "            print(f\"player '{result}' wins!\")\n",
    "            break\n",
    "        elif result == \"tie\" or result == \"Tie\":\n",
    "            display_board(board)\n",
    "            print(\"It's tie!\")\n",
    "            break\n",
    "        current_player = flip_player(current_player)\n"
   ]
  }
 ],
 "metadata": {
  "kernelspec": {
   "display_name": "base",
   "language": "python",
   "name": "python3"
  },
  "language_info": {
   "codemirror_mode": {
    "name": "ipython",
    "version": 3
   },
   "file_extension": ".py",
   "mimetype": "text/x-python",
   "name": "python",
   "nbconvert_exporter": "python",
   "pygments_lexer": "ipython3",
   "version": "3.13.2"
  }
 },
 "nbformat": 4,
 "nbformat_minor": 5
}
